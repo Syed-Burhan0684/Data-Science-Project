{
 "cells": [
  {
   "cell_type": "code",
   "execution_count": 1,
   "id": "bf21322d",
   "metadata": {},
   "outputs": [
    {
     "name": "stderr",
     "output_type": "stream",
     "text": [
      "C:\\Users\\mnai0\\AppData\\Local\\Temp\\ipykernel_29476\\3925790145.py:11: UserWarning: Could not infer format, so each element will be parsed individually, falling back to `dateutil`. To ensure parsing is consistent and as-expected, please specify a format.\n",
      "  statbank_motor_vehicle_registrations = pd.read_csv(r'C:\\Users\\mnai0\\Desktop\\Smester 8\\Data Science\\StatBank Data\\Cleaned_Data_of_Vechile_Registration.csv', parse_dates=['TID'])\n"
     ]
    }
   ],
   "source": [
    "import sqlite3\n",
    "import pandas as pd\n",
    "\n",
    "# Load datasets from CSV files\n",
    "# Scraping file\n",
    "dba_df = pd.read_csv(r'C:\\Users\\mnai0\\Desktop\\Smester 8\\Data Science\\Scraped DBA Data\\cleaned_dba_data.csv', parse_dates=['Day'])\n",
    "\n",
    "# StatBank datasets\n",
    "statbank_bicycle_counts = pd.read_csv(r'C:\\Users\\mnai0\\Desktop\\Smester 8\\Data Science\\StatBank Data\\Cleaned_Data_of_bicycles.csv', parse_dates=['TID'])\n",
    "statbank_motor_vehicles = pd.read_csv(r'C:\\Users\\mnai0\\Desktop\\Smester 8\\Data Science\\StatBank Data\\Cleaned_Data_of_Motor_Vechicles.csv', parse_dates=['TID'])\n",
    "statbank_motor_vehicle_registrations = pd.read_csv(r'C:\\Users\\mnai0\\Desktop\\Smester 8\\Data Science\\StatBank Data\\Cleaned_Data_of_Vechile_Registration.csv', parse_dates=['TID'])\n",
    "statbank_emissions = pd.read_csv(r'C:\\Users\\mnai0\\Desktop\\Smester 8\\Data Science\\StatBank Data\\Cleaned_Data_of_Cars_Emissions.csv', parse_dates=['TID'])\n",
    "\n",
    "# ITC Trade Map datasets\n",
    "itc_bicycles_imports = pd.read_csv(r'C:\\Users\\mnai0\\Desktop\\Smester 8\\Data Science\\ITC Imports Exports Data\\Bicycles Imports By Denmark.csv')\n",
    "itc_bicycles_exports = pd.read_csv(r'C:\\Users\\mnai0\\Desktop\\Smester 8\\Data Science\\ITC Imports Exports Data\\Bicycles Exports By Denmark.csv')\n",
    "itc_motor_vehicals_imports_value = pd.read_csv(r'C:\\Users\\mnai0\\Desktop\\Smester 8\\Data Science\\ITC Imports Exports Data\\Motor Cars Imports By Denmark.csv')\n",
    "itc_motor_vehicals_exports_value = pd.read_csv(r'C:\\Users\\mnai0\\Desktop\\Smester 8\\Data Science\\ITC Imports Exports Data\\Motor Cars Exports By Denmark.csv')"
   ]
  },
  {
   "cell_type": "code",
   "execution_count": 2,
   "id": "79821bad",
   "metadata": {},
   "outputs": [
    {
     "name": "stdout",
     "output_type": "stream",
     "text": [
      "                                                 Title     Price  \\\n",
      "0                                  EL - Bicycle unisex  1160.000   \n",
      "1    BMC TIME MACHINE TM01 TRIATHLON racing bike, t...  1957.500   \n",
      "2    EL Bike Batavus Genova EGO COMFORT. Aar 2020 5...   579.855   \n",
      "3                     Christiania bike let with 7 gear  1449.275   \n",
      "4    Trek.Men's bike, men's bike, frame 57 cm, fram...   224.750   \n",
      "..                                                 ...       ...   \n",
      "519                                       Nishiki bike   232.000   \n",
      "520                              Really good cube bike   565.500   \n",
      "521                         Mustang men's bike is sold   217.500   \n",
      "522       Quality electric bicycle, only slightly used  1305.000   \n",
      "523                           Retro bike from Peugeot!   870.000   \n",
      "\n",
      "          Location          Time Posted Seller Type Bike Type        Day  \n",
      "0             Køge  2025-04-08 00:00:00     Private      city 2025-04-08  \n",
      "1          Kolding  2025-04-12 02:20:24     Private    racing 2025-04-12  \n",
      "2         Aabenraa  2025-04-12 01:28:24     Private  electric 2025-04-12  \n",
      "3            Valby  2025-04-12 00:28:24     Private     cargo 2025-04-12  \n",
      "4         Hvidovre  2025-04-12 00:28:24     Private      city 2025-04-12  \n",
      "..             ...                  ...         ...       ...        ...  \n",
      "519  Frederiksberg  2025-04-09 02:28:24     Private      city 2025-04-09  \n",
      "520         Søborg  2025-04-09 02:28:24     Private      city 2025-04-09  \n",
      "521     Copenhagen  2025-04-08 00:00:00     Private      city 2025-04-08  \n",
      "522  Frederiksberg  2025-04-08 00:00:00     Private  electric 2025-04-08  \n",
      "523         Søborg  2025-04-08 00:00:00     Private      city 2025-04-08  \n",
      "\n",
      "[524 rows x 7 columns]\n"
     ]
    }
   ],
   "source": [
    "print(dba_df)"
   ]
  },
  {
   "cell_type": "code",
   "execution_count": 3,
   "id": "5e3d5107",
   "metadata": {},
   "outputs": [],
   "source": [
    "# Connect to SQLite database (creates 'cycling_market.db' if it doesn’t exist)\n",
    "conn = sqlite3.connect('cycling_market.db')\n",
    "\n",
    "# Function to create tables and insert data\n",
    "def create_table_and_insert_data(df, table_name):\n",
    "    df.to_sql(table_name, conn, if_exists='replace', index=False)\n",
    "\n",
    "# Store datasets into the database\n",
    "create_table_and_insert_data(dba_df, 'dba_listings')\n",
    "create_table_and_insert_data(statbank_bicycle_counts, 'statbank_bicycle_counts')\n",
    "create_table_and_insert_data(statbank_motor_vehicles, 'statbank_motor_vehicles')\n",
    "create_table_and_insert_data(statbank_motor_vehicle_registrations, 'statbank_motor_vehicle_registrations')\n",
    "create_table_and_insert_data(statbank_emissions, 'statbank_emissions')\n",
    "create_table_and_insert_data(itc_bicycles_imports, 'itc_bicycles_imports')\n",
    "create_table_and_insert_data(itc_bicycles_exports, 'itc_bicycles_exports')\n",
    "create_table_and_insert_data(itc_motor_vehicals_imports_value, 'itc_motor_vehicals_imports_value')\n",
    "create_table_and_insert_data(itc_motor_vehicals_exports_value, 'itc_motor_vehicals_exports_value')\n",
    "\n",
    "# Close the connection\n",
    "conn.close()"
   ]
  },
  {
   "cell_type": "code",
   "execution_count": 4,
   "id": "a4819b8d",
   "metadata": {},
   "outputs": [
    {
     "name": "stdout",
     "output_type": "stream",
     "text": [
      "                                               Title     Price  Location  \\\n",
      "0                                EL - Bicycle unisex  1160.000      Køge   \n",
      "1  BMC TIME MACHINE TM01 TRIATHLON racing bike, t...  1957.500   Kolding   \n",
      "2  EL Bike Batavus Genova EGO COMFORT. Aar 2020 5...   579.855  Aabenraa   \n",
      "3                   Christiania bike let with 7 gear  1449.275     Valby   \n",
      "4  Trek.Men's bike, men's bike, frame 57 cm, fram...   224.750  Hvidovre   \n",
      "\n",
      "           Time Posted Seller Type Bike Type                  Day  \n",
      "0  2025-04-08 00:00:00     Private      city  2025-04-08 00:00:00  \n",
      "1  2025-04-12 02:20:24     Private    racing  2025-04-12 00:00:00  \n",
      "2  2025-04-12 01:28:24     Private  electric  2025-04-12 00:00:00  \n",
      "3  2025-04-12 00:28:24     Private     cargo  2025-04-12 00:00:00  \n",
      "4  2025-04-12 00:28:24     Private      city  2025-04-12 00:00:00  \n"
     ]
    }
   ],
   "source": [
    "# Reconnect to the database\n",
    "conn = sqlite3.connect('cycling_market.db')\n",
    "\n",
    "# Query the first 5 rows of dba_listings\n",
    "query = \"SELECT * FROM dba_listings LIMIT 5;\"\n",
    "result = pd.read_sql_query(query, conn)\n",
    "print(result)\n",
    "\n",
    "# Close the connection\n",
    "conn.close()"
   ]
  },
  {
   "cell_type": "code",
   "execution_count": null,
   "id": "66ec2412",
   "metadata": {},
   "outputs": [],
   "source": []
  },
  {
   "cell_type": "code",
   "execution_count": null,
   "id": "697bc327",
   "metadata": {},
   "outputs": [],
   "source": []
  }
 ],
 "metadata": {
  "kernelspec": {
   "display_name": "Python 3 (ipykernel)",
   "language": "python",
   "name": "python3"
  },
  "language_info": {
   "codemirror_mode": {
    "name": "ipython",
    "version": 3
   },
   "file_extension": ".py",
   "mimetype": "text/x-python",
   "name": "python",
   "nbconvert_exporter": "python",
   "pygments_lexer": "ipython3",
   "version": "3.11.5"
  }
 },
 "nbformat": 4,
 "nbformat_minor": 5
}
